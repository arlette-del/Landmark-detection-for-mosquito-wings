{
 "cells": [
  {
   "cell_type": "code",
   "execution_count": 1,
   "metadata": {},
   "outputs": [],
   "source": [
    "import pandas as pd\n",
    "import numpy as np\n",
    "import matplotlib.pyplot as plt"
   ]
  },
  {
   "cell_type": "code",
   "execution_count": 2,
   "metadata": {},
   "outputs": [],
   "source": [
    "df = pd.read_pickle('/Users/arlettedeldique/Desktop/Arlette_BA_cleane_Notebooks/df_with_metadata.pkl')"
   ]
  },
  {
   "cell_type": "code",
   "execution_count": 3,
   "metadata": {},
   "outputs": [
    {
     "data": {
      "text/html": [
       "<div>\n",
       "<style scoped>\n",
       "    .dataframe tbody tr th:only-of-type {\n",
       "        vertical-align: middle;\n",
       "    }\n",
       "\n",
       "    .dataframe tbody tr th {\n",
       "        vertical-align: top;\n",
       "    }\n",
       "\n",
       "    .dataframe thead th {\n",
       "        text-align: right;\n",
       "    }\n",
       "</style>\n",
       "<table border=\"1\" class=\"dataframe\">\n",
       "  <thead>\n",
       "    <tr style=\"text-align: right;\">\n",
       "      <th></th>\n",
       "      <th>Original File Name</th>\n",
       "      <th>Genus</th>\n",
       "      <th>LABEL</th>\n",
       "      <th>processed_image</th>\n",
       "      <th>x1</th>\n",
       "      <th>x2</th>\n",
       "      <th>x3</th>\n",
       "      <th>x4</th>\n",
       "      <th>x5</th>\n",
       "      <th>x6</th>\n",
       "      <th>...</th>\n",
       "      <th>File Name base</th>\n",
       "      <th>Capture location</th>\n",
       "      <th>Capture location - LAT</th>\n",
       "      <th>Capture location - LONG</th>\n",
       "      <th>Capture method</th>\n",
       "      <th>Date of Sample Collection</th>\n",
       "      <th>Device</th>\n",
       "      <th>Method of Identification</th>\n",
       "      <th>Project</th>\n",
       "      <th>Sex</th>\n",
       "    </tr>\n",
       "  </thead>\n",
       "  <tbody>\n",
       "    <tr>\n",
       "      <th>0</th>\n",
       "      <td>001l_Culex_pipiens_Test.tif</td>\n",
       "      <td>Culex</td>\n",
       "      <td>Culex pipiens</td>\n",
       "      <td>[[[0, 0, 0], [0, 0, 0], [0, 0, 0], [0, 0, 0], ...</td>\n",
       "      <td>0.350000</td>\n",
       "      <td>0.665625</td>\n",
       "      <td>0.948438</td>\n",
       "      <td>0.970313</td>\n",
       "      <td>0.976562</td>\n",
       "      <td>0.967187</td>\n",
       "      <td>...</td>\n",
       "      <td>001l_Culex_pipiens_Test</td>\n",
       "      <td>NaN</td>\n",
       "      <td>NaN</td>\n",
       "      <td>NaN</td>\n",
       "      <td>NaN</td>\n",
       "      <td>NaN</td>\n",
       "      <td>olympus sz61 + olympus dp23</td>\n",
       "      <td>NaN</td>\n",
       "      <td>NaN</td>\n",
       "      <td>F</td>\n",
       "    </tr>\n",
       "    <tr>\n",
       "      <th>1</th>\n",
       "      <td>002r_Culex_pipiens_Test.tif</td>\n",
       "      <td>Culex</td>\n",
       "      <td>Culex pipiens</td>\n",
       "      <td>[[[0, 0, 0], [0, 0, 0], [0, 0, 0], [0, 0, 0], ...</td>\n",
       "      <td>0.353125</td>\n",
       "      <td>0.681250</td>\n",
       "      <td>0.946875</td>\n",
       "      <td>0.965625</td>\n",
       "      <td>0.975000</td>\n",
       "      <td>0.973437</td>\n",
       "      <td>...</td>\n",
       "      <td>002r_Culex_pipiens_Test</td>\n",
       "      <td>NaN</td>\n",
       "      <td>NaN</td>\n",
       "      <td>NaN</td>\n",
       "      <td>NaN</td>\n",
       "      <td>NaN</td>\n",
       "      <td>olympus sz61 + olympus dp23</td>\n",
       "      <td>NaN</td>\n",
       "      <td>NaN</td>\n",
       "      <td>F</td>\n",
       "    </tr>\n",
       "    <tr>\n",
       "      <th>2</th>\n",
       "      <td>003l_Culex_pipiens_Test.tif</td>\n",
       "      <td>Culex</td>\n",
       "      <td>Culex pipiens</td>\n",
       "      <td>[[[0, 0, 0], [0, 0, 0], [0, 0, 0], [0, 0, 0], ...</td>\n",
       "      <td>0.326562</td>\n",
       "      <td>0.626563</td>\n",
       "      <td>0.931250</td>\n",
       "      <td>0.950000</td>\n",
       "      <td>0.956250</td>\n",
       "      <td>0.950000</td>\n",
       "      <td>...</td>\n",
       "      <td>003l_Culex_pipiens_Test</td>\n",
       "      <td>NaN</td>\n",
       "      <td>NaN</td>\n",
       "      <td>NaN</td>\n",
       "      <td>NaN</td>\n",
       "      <td>NaN</td>\n",
       "      <td>olympus sz61 + olympus dp23</td>\n",
       "      <td>NaN</td>\n",
       "      <td>NaN</td>\n",
       "      <td>F</td>\n",
       "    </tr>\n",
       "    <tr>\n",
       "      <th>3</th>\n",
       "      <td>005l_Culex_pipiens_Test.tif</td>\n",
       "      <td>Culex</td>\n",
       "      <td>Culex pipiens</td>\n",
       "      <td>[[[0, 0, 0], [0, 0, 0], [0, 0, 0], [0, 0, 0], ...</td>\n",
       "      <td>0.334375</td>\n",
       "      <td>0.620313</td>\n",
       "      <td>0.931250</td>\n",
       "      <td>0.956250</td>\n",
       "      <td>0.960938</td>\n",
       "      <td>0.956250</td>\n",
       "      <td>...</td>\n",
       "      <td>005l_Culex_pipiens_Test</td>\n",
       "      <td>NaN</td>\n",
       "      <td>NaN</td>\n",
       "      <td>NaN</td>\n",
       "      <td>NaN</td>\n",
       "      <td>NaN</td>\n",
       "      <td>olympus sz61 + olympus dp23</td>\n",
       "      <td>NaN</td>\n",
       "      <td>NaN</td>\n",
       "      <td>F</td>\n",
       "    </tr>\n",
       "    <tr>\n",
       "      <th>4</th>\n",
       "      <td>005r_Culex_pipiens_Test.tif</td>\n",
       "      <td>Culex</td>\n",
       "      <td>Culex pipiens</td>\n",
       "      <td>[[[0, 0, 0], [0, 0, 0], [0, 0, 0], [0, 0, 0], ...</td>\n",
       "      <td>0.339062</td>\n",
       "      <td>0.632812</td>\n",
       "      <td>0.948438</td>\n",
       "      <td>0.970313</td>\n",
       "      <td>0.975000</td>\n",
       "      <td>0.967187</td>\n",
       "      <td>...</td>\n",
       "      <td>005r_Culex_pipiens_Test</td>\n",
       "      <td>NaN</td>\n",
       "      <td>NaN</td>\n",
       "      <td>NaN</td>\n",
       "      <td>NaN</td>\n",
       "      <td>NaN</td>\n",
       "      <td>olympus sz61 + olympus dp23</td>\n",
       "      <td>NaN</td>\n",
       "      <td>NaN</td>\n",
       "      <td>F</td>\n",
       "    </tr>\n",
       "  </tbody>\n",
       "</table>\n",
       "<p>5 rows × 53 columns</p>\n",
       "</div>"
      ],
      "text/plain": [
       "            Original File Name  Genus          LABEL  \\\n",
       "0  001l_Culex_pipiens_Test.tif  Culex  Culex pipiens   \n",
       "1  002r_Culex_pipiens_Test.tif  Culex  Culex pipiens   \n",
       "2  003l_Culex_pipiens_Test.tif  Culex  Culex pipiens   \n",
       "3  005l_Culex_pipiens_Test.tif  Culex  Culex pipiens   \n",
       "4  005r_Culex_pipiens_Test.tif  Culex  Culex pipiens   \n",
       "\n",
       "                                     processed_image        x1        x2  \\\n",
       "0  [[[0, 0, 0], [0, 0, 0], [0, 0, 0], [0, 0, 0], ...  0.350000  0.665625   \n",
       "1  [[[0, 0, 0], [0, 0, 0], [0, 0, 0], [0, 0, 0], ...  0.353125  0.681250   \n",
       "2  [[[0, 0, 0], [0, 0, 0], [0, 0, 0], [0, 0, 0], ...  0.326562  0.626563   \n",
       "3  [[[0, 0, 0], [0, 0, 0], [0, 0, 0], [0, 0, 0], ...  0.334375  0.620313   \n",
       "4  [[[0, 0, 0], [0, 0, 0], [0, 0, 0], [0, 0, 0], ...  0.339062  0.632812   \n",
       "\n",
       "         x3        x4        x5        x6  ...           File Name base  \\\n",
       "0  0.948438  0.970313  0.976562  0.967187  ...  001l_Culex_pipiens_Test   \n",
       "1  0.946875  0.965625  0.975000  0.973437  ...  002r_Culex_pipiens_Test   \n",
       "2  0.931250  0.950000  0.956250  0.950000  ...  003l_Culex_pipiens_Test   \n",
       "3  0.931250  0.956250  0.960938  0.956250  ...  005l_Culex_pipiens_Test   \n",
       "4  0.948438  0.970313  0.975000  0.967187  ...  005r_Culex_pipiens_Test   \n",
       "\n",
       "   Capture location  Capture location - LAT  Capture location - LONG  \\\n",
       "0               NaN                     NaN                      NaN   \n",
       "1               NaN                     NaN                      NaN   \n",
       "2               NaN                     NaN                      NaN   \n",
       "3               NaN                     NaN                      NaN   \n",
       "4               NaN                     NaN                      NaN   \n",
       "\n",
       "   Capture method  Date of Sample Collection                       Device  \\\n",
       "0             NaN                        NaN  olympus sz61 + olympus dp23   \n",
       "1             NaN                        NaN  olympus sz61 + olympus dp23   \n",
       "2             NaN                        NaN  olympus sz61 + olympus dp23   \n",
       "3             NaN                        NaN  olympus sz61 + olympus dp23   \n",
       "4             NaN                        NaN  olympus sz61 + olympus dp23   \n",
       "\n",
       "   Method of Identification  Project  Sex  \n",
       "0                       NaN      NaN    F  \n",
       "1                       NaN      NaN    F  \n",
       "2                       NaN      NaN    F  \n",
       "3                       NaN      NaN    F  \n",
       "4                       NaN      NaN    F  \n",
       "\n",
       "[5 rows x 53 columns]"
      ]
     },
     "execution_count": 3,
     "metadata": {},
     "output_type": "execute_result"
    }
   ],
   "source": [
    "df.head()"
   ]
  },
  {
   "cell_type": "code",
   "execution_count": 4,
   "metadata": {},
   "outputs": [
    {
     "data": {
      "text/plain": [
       "Index(['Original File Name', 'Genus', 'LABEL', 'processed_image', 'x1', 'x2',\n",
       "       'x3', 'x4', 'x5', 'x6', 'x7', 'x8', 'x9', 'x10', 'x11', 'x12', 'x13',\n",
       "       'x14', 'x15', 'x16', 'x17', 'x18', 'y1', 'y2', 'y3', 'y4', 'y5', 'y6',\n",
       "       'y7', 'y8', 'y9', 'y10', 'y11', 'y12', 'y13', 'y14', 'y15', 'y16',\n",
       "       'y17', 'y18', 'Wing_Side', 'File Name clean', 'Image Path',\n",
       "       'File Name base', 'Capture location', 'Capture location - LAT',\n",
       "       'Capture location - LONG', 'Capture method',\n",
       "       'Date of Sample Collection', 'Device', 'Method of Identification',\n",
       "       'Project', 'Sex'],\n",
       "      dtype='object')"
      ]
     },
     "execution_count": 4,
     "metadata": {},
     "output_type": "execute_result"
    }
   ],
   "source": [
    "df.columns"
   ]
  },
  {
   "cell_type": "code",
   "execution_count": 5,
   "metadata": {},
   "outputs": [
    {
     "data": {
      "text/plain": [
       "(4935, 53)"
      ]
     },
     "execution_count": 5,
     "metadata": {},
     "output_type": "execute_result"
    }
   ],
   "source": [
    "df.shape"
   ]
  },
  {
   "cell_type": "code",
   "execution_count": 6,
   "metadata": {},
   "outputs": [
    {
     "data": {
      "text/plain": [
       "Genus\n",
       "Aedes             2650\n",
       "Culex             1998\n",
       "Coquillettidia      88\n",
       "Anopheles           87\n",
       "Culiseta            61\n",
       "Armigeres           38\n",
       "Mansonia             7\n",
       "Tripteroides         6\n",
       "Name: count, dtype: int64"
      ]
     },
     "execution_count": 6,
     "metadata": {},
     "output_type": "execute_result"
    }
   ],
   "source": [
    "#analyse für methoden\n",
    "df['Genus'].value_counts()"
   ]
  },
  {
   "cell_type": "markdown",
   "metadata": {},
   "source": [
    "Aedes             2650\n",
    "Anopheles           87\n",
    "Armigeres           38\n",
    "Coquillettidia      88\n",
    "Culex             1998\n",
    "Culiseta            61\n",
    "Mansonia             7\n",
    "Tripteroides         6\n"
   ]
  },
  {
   "cell_type": "code",
   "execution_count": 7,
   "metadata": {},
   "outputs": [
    {
     "data": {
      "text/plain": [
       "array(['Culex pipiens', 'Aedes detritus-coluzzo', 'Culiseta annulata',\n",
       "       'Culex modestus', 'Coquillettidia richiardii',\n",
       "       'Culiseta morsitans', 'Aedes aegypti', 'Aedes albopictus',\n",
       "       'Aedes koreicus', 'Aedes japonicus', 'Aedes annulipes',\n",
       "       'Aedes caspius', 'Aedes cinerus-geminus', 'Aedes communis-punctor',\n",
       "       'Aedes geniculatus', 'Aedes rossicus', 'Aedes rusticus',\n",
       "       'Aedes sticticus', 'Aedes vexans', 'Anopheles claviger',\n",
       "       'Anopheles maculipennis', 'Anopheles plumbeus', 'Culex territans',\n",
       "       'Culex torrentium', 'Armigeres subalbatus', 'Culex vishnui',\n",
       "       'Mansonia indiana', 'Aedes ostentatio', 'Aedes thailandensis',\n",
       "       'Culex brevipalpis', 'Aedes amesii', 'Anopheles aconitus',\n",
       "       'Culex gelidus', 'Culex bitaeniorhynchus',\n",
       "       'Coquillettidia crassipes', 'Aedes vittatus', 'Anopheles sinensis',\n",
       "       'Tripteroides aranoides', 'Anopheles tessellatus',\n",
       "       'Armigeres moultoni', 'Culex fuscocephala', 'Tripteroides affinis',\n",
       "       'Mansonia uniformis', 'Anopheles lesteri', 'Culex whitei',\n",
       "       'Culex nigropunctatus'], dtype=object)"
      ]
     },
     "execution_count": 7,
     "metadata": {},
     "output_type": "execute_result"
    }
   ],
   "source": [
    "df['LABEL'].unique()"
   ]
  },
  {
   "cell_type": "code",
   "execution_count": 8,
   "metadata": {},
   "outputs": [],
   "source": [
    "Species = df['LABEL'].value_counts()"
   ]
  },
  {
   "cell_type": "code",
   "execution_count": 9,
   "metadata": {},
   "outputs": [
    {
     "data": {
      "text/plain": [
       "<bound method IndexOpsMixin.tolist of LABEL\n",
       "Culex pipiens                1507\n",
       "Aedes aegypti                 915\n",
       "Aedes detritus-coluzzo        427\n",
       "Aedes japonicus               368\n",
       "Aedes koreicus                344\n",
       "Aedes albopictus              317\n",
       "Culex vishnui                 252\n",
       "Culex torrentium              166\n",
       "Coquillettidia richiardii      58\n",
       "Aedes communis-punctor         56\n",
       "Aedes annulipes                38\n",
       "Armigeres subalbatus           37\n",
       "Culiseta morsitans             36\n",
       "Aedes geniculatus              34\n",
       "Aedes cinerus-geminus          30\n",
       "Aedes sticticus                30\n",
       "Anopheles plumbeus             30\n",
       "Coquillettidia crassipes       30\n",
       "Aedes vexans                   30\n",
       "Anopheles claviger             28\n",
       "Culiseta annulata              25\n",
       "Culex territans                22\n",
       "Culex gelidus                  21\n",
       "Anopheles maculipennis         17\n",
       "Aedes caspius                  17\n",
       "Aedes rusticus                 15\n",
       "Aedes rossicus                 14\n",
       "Culex fuscocephala             14\n",
       "Aedes ostentatio               11\n",
       "Anopheles sinensis              8\n",
       "Mansonia uniformis              6\n",
       "Culex brevipalpis               4\n",
       "Culex nigropunctatus            4\n",
       "Culex bitaeniorhynchus          3\n",
       "Culex modestus                  3\n",
       "Tripteroides affinis            3\n",
       "Tripteroides aranoides          3\n",
       "Aedes vittatus                  2\n",
       "Anopheles tessellatus           2\n",
       "Culex whitei                    2\n",
       "Mansonia indiana                1\n",
       "Aedes thailandensis             1\n",
       "Aedes amesii                    1\n",
       "Armigeres moultoni              1\n",
       "Anopheles aconitus              1\n",
       "Anopheles lesteri               1\n",
       "Name: count, dtype: int64>"
      ]
     },
     "execution_count": 9,
     "metadata": {},
     "output_type": "execute_result"
    }
   ],
   "source": [
    "Species.tolist"
   ]
  },
  {
   "cell_type": "code",
   "execution_count": 10,
   "metadata": {},
   "outputs": [
    {
     "data": {
      "text/plain": [
       "46"
      ]
     },
     "execution_count": 10,
     "metadata": {},
     "output_type": "execute_result"
    }
   ],
   "source": [
    "len(Species)"
   ]
  },
  {
   "cell_type": "code",
   "execution_count": 11,
   "metadata": {},
   "outputs": [
    {
     "data": {
      "text/plain": [
       "Wing_Side\n",
       "R    2724\n",
       "L    2211\n",
       "Name: count, dtype: int64"
      ]
     },
     "execution_count": 11,
     "metadata": {},
     "output_type": "execute_result"
    }
   ],
   "source": [
    "df['Wing_Side'].value_counts()"
   ]
  },
  {
   "cell_type": "code",
   "execution_count": 12,
   "metadata": {},
   "outputs": [
    {
     "data": {
      "text/plain": [
       "Capture location\n",
       "Hamburg, Germany               1428\n",
       "Rio de Janeiro, Brazil          635\n",
       "MISSING VALUE                   429\n",
       "Conet-en-Roussillon, France     367\n",
       "Ho Chi Minh, Vietnam            261\n",
       "Heidelberg, Germany             241\n",
       "Wiesbaden, Germany              221\n",
       "Southern Germany                213\n",
       "Thua Thien Hue, Vietnam          94\n",
       "Dak Lak, Vietnam                 80\n",
       "Weinheim, Germany                76\n",
       "Grau-de-Roi, France              60\n",
       "Varel, Germany                   54\n",
       "Tay Ninh, Vietnam                49\n",
       "Ha Noi, Vietnam                  45\n",
       "Hung Yen, Vietnam                43\n",
       "Inheiden, Germany                39\n",
       "Regensburg, Germany              38\n",
       "Landau, Germany                  37\n",
       "Rackwitz,Germany                 35\n",
       "Lindau, Germany                  34\n",
       "Zschepplin, Germany              34\n",
       "Elsterwerda, Germany             34\n",
       "Kassel, Germany                  34\n",
       "Waldenbuch, Germany              30\n",
       "Ravensburg, Germany              30\n",
       "Karlsruhe, Germany               29\n",
       "Bad Schmiedeberg, Germany        29\n",
       "Buchholz Heide, Germany          26\n",
       "Ruebke, Germany                  24\n",
       "Fuerth, Germany                  15\n",
       "Tuebingen, German                 8\n",
       "Name: count, dtype: int64"
      ]
     },
     "execution_count": 12,
     "metadata": {},
     "output_type": "execute_result"
    }
   ],
   "source": [
    "df['Capture location'].value_counts()"
   ]
  },
  {
   "cell_type": "code",
   "execution_count": 13,
   "metadata": {},
   "outputs": [
    {
     "data": {
      "text/plain": [
       "Capture method\n",
       "laboratory-colony, bnitm hamburg                      1525\n",
       "bg-pro                                                 572\n",
       "egg-raft-collection                                    479\n",
       " egg-raft collection                                   427\n",
       "laboratory colony, fiocruz, rio de janeiro, brazil     401\n",
       "bg-sentinel                                            344\n",
       "ovitrap                                                234\n",
       "aspirator                                               58\n",
       "Name: count, dtype: int64"
      ]
     },
     "execution_count": 13,
     "metadata": {},
     "output_type": "execute_result"
    }
   ],
   "source": [
    "df['Capture method'].value_counts()"
   ]
  },
  {
   "cell_type": "code",
   "execution_count": 14,
   "metadata": {},
   "outputs": [
    {
     "data": {
      "text/plain": [
       "Date of Sample Collection\n",
       "MISSING VALUE          1220\n",
       "2022-07-15 00:00:00     759\n",
       "2022-05-01 00:00:00     635\n",
       "2022-11-26 00:00:00     221\n",
       "13.08.2021               63\n",
       "                       ... \n",
       "2017-07-24 00:00:00       1\n",
       "2017-08-10 00:00:00       1\n",
       "2018-08-26 00:00:00       1\n",
       "2018-07-25 00:00:00       1\n",
       "23.07.2021                1\n",
       "Name: count, Length: 167, dtype: int64"
      ]
     },
     "execution_count": 14,
     "metadata": {},
     "output_type": "execute_result"
    }
   ],
   "source": [
    "df['Date of Sample Collection'].value_counts()"
   ]
  },
  {
   "cell_type": "code",
   "execution_count": 15,
   "metadata": {},
   "outputs": [
    {
     "data": {
      "text/plain": [
       "Device\n",
       "olympus sz61 + olympus dp23    3866\n",
       "macrolens + iphone se           613\n",
       "leica-m205c                     429\n",
       "Name: count, dtype: int64"
      ]
     },
     "execution_count": 15,
     "metadata": {},
     "output_type": "execute_result"
    }
   ],
   "source": [
    "df['Device'].value_counts()"
   ]
  },
  {
   "cell_type": "code",
   "execution_count": 16,
   "metadata": {},
   "outputs": [
    {
     "data": {
      "text/plain": [
       "Method of Identification\n",
       "Laboratory-Colony, BNITM Hamburg    1525\n",
       "morphology                           935\n",
       "COI gene barcoding                   659\n",
       "qPCR CQ11 and ACE2 genes             477\n",
       "ITS2 gene barcoding                   17\n",
       "Name: count, dtype: int64"
      ]
     },
     "execution_count": 16,
     "metadata": {},
     "output_type": "execute_result"
    }
   ],
   "source": [
    "df['Method of Identification'].value_counts()"
   ]
  },
  {
   "cell_type": "code",
   "execution_count": 17,
   "metadata": {},
   "outputs": [
    {
     "data": {
      "text/plain": [
       "Project\n",
       "ConVector                           937\n",
       "pipiens-complex-study               759\n",
       "aegypti-wolbachia-study             635\n",
       "NEED                                634\n",
       "landmark-mosquito-identification    429\n",
       "EID-MED + BNITM Colab               427\n",
       "vietnam-mosquito-collection-2022    398\n",
       "landmark-aedes-collection           281\n",
       "vietnam-mosquito-collection-2023    174\n",
       "AIDA                                 98\n",
       "Name: count, dtype: int64"
      ]
     },
     "execution_count": 17,
     "metadata": {},
     "output_type": "execute_result"
    }
   ],
   "source": [
    "df['Project'].value_counts()"
   ]
  },
  {
   "cell_type": "code",
   "execution_count": 18,
   "metadata": {},
   "outputs": [
    {
     "data": {
      "text/plain": [
       "Sex\n",
       "F    4199\n",
       "M     709\n",
       "Name: count, dtype: int64"
      ]
     },
     "execution_count": 18,
     "metadata": {},
     "output_type": "execute_result"
    }
   ],
   "source": [
    "df['Sex'].value_counts()"
   ]
  },
  {
   "cell_type": "markdown",
   "metadata": {},
   "source": [
    "einen dataframe ohne bilder, die mit dem iPhone aufgenommen wurden "
   ]
  },
  {
   "cell_type": "code",
   "execution_count": 19,
   "metadata": {},
   "outputs": [],
   "source": [
    "df_without_iphone = df[df[\"Device\"] != \"macrolens + iphone se\"]"
   ]
  },
  {
   "cell_type": "code",
   "execution_count": 20,
   "metadata": {},
   "outputs": [
    {
     "data": {
      "text/plain": [
       "(4322, 53)"
      ]
     },
     "execution_count": 20,
     "metadata": {},
     "output_type": "execute_result"
    }
   ],
   "source": [
    "df_without_iphone.shape"
   ]
  },
  {
   "cell_type": "code",
   "execution_count": 21,
   "metadata": {},
   "outputs": [
    {
     "data": {
      "text/plain": [
       "Index(['Original File Name', 'Genus', 'LABEL', 'processed_image', 'x1', 'x2',\n",
       "       'x3', 'x4', 'x5', 'x6', 'x7', 'x8', 'x9', 'x10', 'x11', 'x12', 'x13',\n",
       "       'x14', 'x15', 'x16', 'x17', 'x18', 'y1', 'y2', 'y3', 'y4', 'y5', 'y6',\n",
       "       'y7', 'y8', 'y9', 'y10', 'y11', 'y12', 'y13', 'y14', 'y15', 'y16',\n",
       "       'y17', 'y18', 'Wing_Side', 'File Name clean', 'Image Path',\n",
       "       'File Name base', 'Capture location', 'Capture location - LAT',\n",
       "       'Capture location - LONG', 'Capture method',\n",
       "       'Date of Sample Collection', 'Device', 'Method of Identification',\n",
       "       'Project', 'Sex'],\n",
       "      dtype='object')"
      ]
     },
     "execution_count": 21,
     "metadata": {},
     "output_type": "execute_result"
    }
   ],
   "source": [
    "df_without_iphone.columns"
   ]
  },
  {
   "cell_type": "code",
   "execution_count": 22,
   "metadata": {},
   "outputs": [],
   "source": [
    "cols = [\n",
    "    'File Name clean', 'Genus', 'LABEL', 'processed_image',\n",
    "    'x1', 'x2', 'x3', 'x4', 'x5', 'x6', 'x7', 'x8', 'x9', 'x10', 'x11', 'x12', 'x13',\n",
    "    'x14', 'x15', 'x16', 'x17', 'x18',\n",
    "    'y1', 'y2', 'y3', 'y4', 'y5', 'y6', 'y7', 'y8', 'y9', 'y10', 'y11', 'y12', 'y13',\n",
    "    'y14', 'y15', 'y16', 'y17', 'y18'\n",
    "]\n",
    "\n",
    "df_without_iphone_ml = df_without_iphone[cols].reset_index(drop=True)\n"
   ]
  },
  {
   "cell_type": "code",
   "execution_count": 23,
   "metadata": {},
   "outputs": [
    {
     "data": {
      "text/html": [
       "<div>\n",
       "<style scoped>\n",
       "    .dataframe tbody tr th:only-of-type {\n",
       "        vertical-align: middle;\n",
       "    }\n",
       "\n",
       "    .dataframe tbody tr th {\n",
       "        vertical-align: top;\n",
       "    }\n",
       "\n",
       "    .dataframe thead th {\n",
       "        text-align: right;\n",
       "    }\n",
       "</style>\n",
       "<table border=\"1\" class=\"dataframe\">\n",
       "  <thead>\n",
       "    <tr style=\"text-align: right;\">\n",
       "      <th></th>\n",
       "      <th>File Name clean</th>\n",
       "      <th>Genus</th>\n",
       "      <th>LABEL</th>\n",
       "      <th>processed_image</th>\n",
       "      <th>x1</th>\n",
       "      <th>x2</th>\n",
       "      <th>x3</th>\n",
       "      <th>x4</th>\n",
       "      <th>x5</th>\n",
       "      <th>x6</th>\n",
       "      <th>...</th>\n",
       "      <th>y9</th>\n",
       "      <th>y10</th>\n",
       "      <th>y11</th>\n",
       "      <th>y12</th>\n",
       "      <th>y13</th>\n",
       "      <th>y14</th>\n",
       "      <th>y15</th>\n",
       "      <th>y16</th>\n",
       "      <th>y17</th>\n",
       "      <th>y18</th>\n",
       "    </tr>\n",
       "  </thead>\n",
       "  <tbody>\n",
       "    <tr>\n",
       "      <th>0</th>\n",
       "      <td>001l_Culex_pipiens_Test</td>\n",
       "      <td>Culex</td>\n",
       "      <td>Culex pipiens</td>\n",
       "      <td>[[[0, 0, 0], [0, 0, 0], [0, 0, 0], [0, 0, 0], ...</td>\n",
       "      <td>0.350000</td>\n",
       "      <td>0.665625</td>\n",
       "      <td>0.948438</td>\n",
       "      <td>0.970313</td>\n",
       "      <td>0.976562</td>\n",
       "      <td>0.967187</td>\n",
       "      <td>...</td>\n",
       "      <td>0.703125</td>\n",
       "      <td>0.765625</td>\n",
       "      <td>0.571875</td>\n",
       "      <td>0.550000</td>\n",
       "      <td>0.509375</td>\n",
       "      <td>0.506250</td>\n",
       "      <td>0.47500</td>\n",
       "      <td>0.446875</td>\n",
       "      <td>0.425000</td>\n",
       "      <td>0.550000</td>\n",
       "    </tr>\n",
       "    <tr>\n",
       "      <th>1</th>\n",
       "      <td>002r_Culex_pipiens_Test</td>\n",
       "      <td>Culex</td>\n",
       "      <td>Culex pipiens</td>\n",
       "      <td>[[[0, 0, 0], [0, 0, 0], [0, 0, 0], [0, 0, 0], ...</td>\n",
       "      <td>0.353125</td>\n",
       "      <td>0.681250</td>\n",
       "      <td>0.946875</td>\n",
       "      <td>0.965625</td>\n",
       "      <td>0.975000</td>\n",
       "      <td>0.973437</td>\n",
       "      <td>...</td>\n",
       "      <td>0.618750</td>\n",
       "      <td>0.681250</td>\n",
       "      <td>0.471875</td>\n",
       "      <td>0.450000</td>\n",
       "      <td>0.409375</td>\n",
       "      <td>0.406250</td>\n",
       "      <td>0.37500</td>\n",
       "      <td>0.337500</td>\n",
       "      <td>0.325000</td>\n",
       "      <td>0.456250</td>\n",
       "    </tr>\n",
       "    <tr>\n",
       "      <th>2</th>\n",
       "      <td>003l_Culex_pipiens_Test</td>\n",
       "      <td>Culex</td>\n",
       "      <td>Culex pipiens</td>\n",
       "      <td>[[[0, 0, 0], [0, 0, 0], [0, 0, 0], [0, 0, 0], ...</td>\n",
       "      <td>0.326562</td>\n",
       "      <td>0.626563</td>\n",
       "      <td>0.931250</td>\n",
       "      <td>0.950000</td>\n",
       "      <td>0.956250</td>\n",
       "      <td>0.950000</td>\n",
       "      <td>...</td>\n",
       "      <td>0.671875</td>\n",
       "      <td>0.721875</td>\n",
       "      <td>0.496875</td>\n",
       "      <td>0.500000</td>\n",
       "      <td>0.450000</td>\n",
       "      <td>0.453125</td>\n",
       "      <td>0.41875</td>\n",
       "      <td>0.384375</td>\n",
       "      <td>0.365625</td>\n",
       "      <td>0.509375</td>\n",
       "    </tr>\n",
       "    <tr>\n",
       "      <th>3</th>\n",
       "      <td>005l_Culex_pipiens_Test</td>\n",
       "      <td>Culex</td>\n",
       "      <td>Culex pipiens</td>\n",
       "      <td>[[[0, 0, 0], [0, 0, 0], [0, 0, 0], [0, 0, 0], ...</td>\n",
       "      <td>0.334375</td>\n",
       "      <td>0.620313</td>\n",
       "      <td>0.931250</td>\n",
       "      <td>0.956250</td>\n",
       "      <td>0.960938</td>\n",
       "      <td>0.956250</td>\n",
       "      <td>...</td>\n",
       "      <td>0.643750</td>\n",
       "      <td>0.706250</td>\n",
       "      <td>0.509375</td>\n",
       "      <td>0.490625</td>\n",
       "      <td>0.443750</td>\n",
       "      <td>0.443750</td>\n",
       "      <td>0.40625</td>\n",
       "      <td>0.368750</td>\n",
       "      <td>0.356250</td>\n",
       "      <td>0.493750</td>\n",
       "    </tr>\n",
       "    <tr>\n",
       "      <th>4</th>\n",
       "      <td>005r_Culex_pipiens_Test</td>\n",
       "      <td>Culex</td>\n",
       "      <td>Culex pipiens</td>\n",
       "      <td>[[[0, 0, 0], [0, 0, 0], [0, 0, 0], [0, 0, 0], ...</td>\n",
       "      <td>0.339062</td>\n",
       "      <td>0.632812</td>\n",
       "      <td>0.948438</td>\n",
       "      <td>0.970313</td>\n",
       "      <td>0.975000</td>\n",
       "      <td>0.967187</td>\n",
       "      <td>...</td>\n",
       "      <td>0.656250</td>\n",
       "      <td>0.709375</td>\n",
       "      <td>0.493750</td>\n",
       "      <td>0.478125</td>\n",
       "      <td>0.431250</td>\n",
       "      <td>0.440625</td>\n",
       "      <td>0.39375</td>\n",
       "      <td>0.359375</td>\n",
       "      <td>0.337500</td>\n",
       "      <td>0.481250</td>\n",
       "    </tr>\n",
       "  </tbody>\n",
       "</table>\n",
       "<p>5 rows × 40 columns</p>\n",
       "</div>"
      ],
      "text/plain": [
       "           File Name clean  Genus          LABEL  \\\n",
       "0  001l_Culex_pipiens_Test  Culex  Culex pipiens   \n",
       "1  002r_Culex_pipiens_Test  Culex  Culex pipiens   \n",
       "2  003l_Culex_pipiens_Test  Culex  Culex pipiens   \n",
       "3  005l_Culex_pipiens_Test  Culex  Culex pipiens   \n",
       "4  005r_Culex_pipiens_Test  Culex  Culex pipiens   \n",
       "\n",
       "                                     processed_image        x1        x2  \\\n",
       "0  [[[0, 0, 0], [0, 0, 0], [0, 0, 0], [0, 0, 0], ...  0.350000  0.665625   \n",
       "1  [[[0, 0, 0], [0, 0, 0], [0, 0, 0], [0, 0, 0], ...  0.353125  0.681250   \n",
       "2  [[[0, 0, 0], [0, 0, 0], [0, 0, 0], [0, 0, 0], ...  0.326562  0.626563   \n",
       "3  [[[0, 0, 0], [0, 0, 0], [0, 0, 0], [0, 0, 0], ...  0.334375  0.620313   \n",
       "4  [[[0, 0, 0], [0, 0, 0], [0, 0, 0], [0, 0, 0], ...  0.339062  0.632812   \n",
       "\n",
       "         x3        x4        x5        x6  ...        y9       y10       y11  \\\n",
       "0  0.948438  0.970313  0.976562  0.967187  ...  0.703125  0.765625  0.571875   \n",
       "1  0.946875  0.965625  0.975000  0.973437  ...  0.618750  0.681250  0.471875   \n",
       "2  0.931250  0.950000  0.956250  0.950000  ...  0.671875  0.721875  0.496875   \n",
       "3  0.931250  0.956250  0.960938  0.956250  ...  0.643750  0.706250  0.509375   \n",
       "4  0.948438  0.970313  0.975000  0.967187  ...  0.656250  0.709375  0.493750   \n",
       "\n",
       "        y12       y13       y14      y15       y16       y17       y18  \n",
       "0  0.550000  0.509375  0.506250  0.47500  0.446875  0.425000  0.550000  \n",
       "1  0.450000  0.409375  0.406250  0.37500  0.337500  0.325000  0.456250  \n",
       "2  0.500000  0.450000  0.453125  0.41875  0.384375  0.365625  0.509375  \n",
       "3  0.490625  0.443750  0.443750  0.40625  0.368750  0.356250  0.493750  \n",
       "4  0.478125  0.431250  0.440625  0.39375  0.359375  0.337500  0.481250  \n",
       "\n",
       "[5 rows x 40 columns]"
      ]
     },
     "execution_count": 23,
     "metadata": {},
     "output_type": "execute_result"
    }
   ],
   "source": [
    "df_without_iphone_ml.head()"
   ]
  },
  {
   "cell_type": "code",
   "execution_count": null,
   "metadata": {},
   "outputs": [
    {
     "ename": "SyntaxError",
     "evalue": "invalid syntax (1413027069.py, line 1)",
     "output_type": "error",
     "traceback": [
      "\u001b[0;36m  Cell \u001b[0;32mIn[24], line 1\u001b[0;36m\u001b[0m\n\u001b[0;31m    . df_without_iphone_ml.to_pickle('/Users/arlettedeldique/Desktop/df_without_iphone_ml.pkl')\u001b[0m\n\u001b[0m    ^\u001b[0m\n\u001b[0;31mSyntaxError\u001b[0m\u001b[0;31m:\u001b[0m invalid syntax\n"
     ]
    }
   ],
   "source": [
    "df_without_iphone_ml.to_pickle('/Users/arlettedeldique/Desktop/df_without_iphone_ml.pkl')"
   ]
  },
  {
   "cell_type": "markdown",
   "metadata": {},
   "source": [
    "analyse df without iphone + lens pictures "
   ]
  },
  {
   "cell_type": "code",
   "execution_count": 26,
   "metadata": {},
   "outputs": [
    {
     "data": {
      "text/plain": [
       "(4322, 53)"
      ]
     },
     "execution_count": 26,
     "metadata": {},
     "output_type": "execute_result"
    }
   ],
   "source": [
    "df_without_iphone.shape"
   ]
  },
  {
   "cell_type": "code",
   "execution_count": 27,
   "metadata": {},
   "outputs": [
    {
     "data": {
      "text/plain": [
       "Genus\n",
       "Aedes             2037\n",
       "Culex             1998\n",
       "Coquillettidia      88\n",
       "Anopheles           87\n",
       "Culiseta            61\n",
       "Armigeres           38\n",
       "Mansonia             7\n",
       "Tripteroides         6\n",
       "Name: count, dtype: int64"
      ]
     },
     "execution_count": 27,
     "metadata": {},
     "output_type": "execute_result"
    }
   ],
   "source": [
    "df_without_iphone['Genus'].value_counts()"
   ]
  },
  {
   "cell_type": "code",
   "execution_count": 28,
   "metadata": {},
   "outputs": [
    {
     "data": {
      "text/plain": [
       "<bound method IndexOpsMixin.tolist of LABEL\n",
       "Culex pipiens                1507\n",
       "Aedes aegypti                 742\n",
       "Aedes detritus-coluzzo        427\n",
       "Culex vishnui                 252\n",
       "Aedes japonicus               215\n",
       "Aedes koreicus                207\n",
       "Aedes albopictus              167\n",
       "Culex torrentium              166\n",
       "Coquillettidia richiardii      58\n",
       "Aedes communis-punctor         56\n",
       "Aedes annulipes                38\n",
       "Armigeres subalbatus           37\n",
       "Culiseta morsitans             36\n",
       "Aedes geniculatus              34\n",
       "Aedes cinerus-geminus          30\n",
       "Aedes sticticus                30\n",
       "Anopheles plumbeus             30\n",
       "Coquillettidia crassipes       30\n",
       "Aedes vexans                   30\n",
       "Anopheles claviger             28\n",
       "Culiseta annulata              25\n",
       "Culex territans                22\n",
       "Culex gelidus                  21\n",
       "Anopheles maculipennis         17\n",
       "Aedes caspius                  17\n",
       "Aedes rusticus                 15\n",
       "Aedes rossicus                 14\n",
       "Culex fuscocephala             14\n",
       "Aedes ostentatio               11\n",
       "Anopheles sinensis              8\n",
       "Mansonia uniformis              6\n",
       "Culex brevipalpis               4\n",
       "Culex nigropunctatus            4\n",
       "Culex bitaeniorhynchus          3\n",
       "Culex modestus                  3\n",
       "Tripteroides affinis            3\n",
       "Tripteroides aranoides          3\n",
       "Aedes vittatus                  2\n",
       "Anopheles tessellatus           2\n",
       "Culex whitei                    2\n",
       "Mansonia indiana                1\n",
       "Aedes thailandensis             1\n",
       "Aedes amesii                    1\n",
       "Armigeres moultoni              1\n",
       "Anopheles aconitus              1\n",
       "Anopheles lesteri               1\n",
       "Name: count, dtype: int64>"
      ]
     },
     "execution_count": 28,
     "metadata": {},
     "output_type": "execute_result"
    }
   ],
   "source": [
    "Species = df_without_iphone['LABEL'].value_counts()\n",
    "Species.tolist"
   ]
  },
  {
   "cell_type": "code",
   "execution_count": 29,
   "metadata": {},
   "outputs": [
    {
     "data": {
      "text/plain": [
       "46"
      ]
     },
     "execution_count": 29,
     "metadata": {},
     "output_type": "execute_result"
    }
   ],
   "source": [
    "len(Species)"
   ]
  },
  {
   "cell_type": "code",
   "execution_count": 30,
   "metadata": {},
   "outputs": [
    {
     "data": {
      "text/plain": [
       "Wing_Side\n",
       "L    2211\n",
       "R    2111\n",
       "Name: count, dtype: int64"
      ]
     },
     "execution_count": 30,
     "metadata": {},
     "output_type": "execute_result"
    }
   ],
   "source": [
    "df_without_iphone['Wing_Side'].value_counts()"
   ]
  },
  {
   "cell_type": "code",
   "execution_count": 31,
   "metadata": {},
   "outputs": [
    {
     "data": {
      "text/plain": [
       "Capture method\n",
       "laboratory-colony, bnitm hamburg                      912\n",
       "bg-pro                                                572\n",
       "egg-raft-collection                                   479\n",
       " egg-raft collection                                  427\n",
       "laboratory colony, fiocruz, rio de janeiro, brazil    401\n",
       "bg-sentinel                                           344\n",
       "ovitrap                                               234\n",
       "aspirator                                              58\n",
       "Name: count, dtype: int64"
      ]
     },
     "execution_count": 31,
     "metadata": {},
     "output_type": "execute_result"
    }
   ],
   "source": [
    "df_without_iphone['Capture method'].value_counts()"
   ]
  },
  {
   "cell_type": "code",
   "execution_count": 32,
   "metadata": {},
   "outputs": [
    {
     "data": {
      "text/plain": [
       "Date of Sample Collection\n",
       "2022-07-15 00:00:00    759\n",
       "2022-05-01 00:00:00    635\n",
       "MISSING VALUE          607\n",
       "2022-11-26 00:00:00    221\n",
       "13.08.2021              63\n",
       "                      ... \n",
       "2017-07-24 00:00:00      1\n",
       "2017-08-10 00:00:00      1\n",
       "2018-08-26 00:00:00      1\n",
       "2018-07-25 00:00:00      1\n",
       "23.07.2021               1\n",
       "Name: count, Length: 167, dtype: int64"
      ]
     },
     "execution_count": 32,
     "metadata": {},
     "output_type": "execute_result"
    }
   ],
   "source": [
    "df_without_iphone['Date of Sample Collection'].value_counts()"
   ]
  },
  {
   "cell_type": "code",
   "execution_count": 33,
   "metadata": {},
   "outputs": [
    {
     "data": {
      "text/plain": [
       "Device\n",
       "olympus sz61 + olympus dp23    3866\n",
       "leica-m205c                     429\n",
       "Name: count, dtype: int64"
      ]
     },
     "execution_count": 33,
     "metadata": {},
     "output_type": "execute_result"
    }
   ],
   "source": [
    "df_without_iphone['Device'].value_counts()"
   ]
  },
  {
   "cell_type": "code",
   "execution_count": 34,
   "metadata": {},
   "outputs": [
    {
     "data": {
      "text/plain": [
       "Method of Identification\n",
       "morphology                          935\n",
       "Laboratory-Colony, BNITM Hamburg    912\n",
       "COI gene barcoding                  659\n",
       "qPCR CQ11 and ACE2 genes            477\n",
       "ITS2 gene barcoding                  17\n",
       "Name: count, dtype: int64"
      ]
     },
     "execution_count": 34,
     "metadata": {},
     "output_type": "execute_result"
    }
   ],
   "source": [
    "df_without_iphone['Method of Identification'].value_counts()"
   ]
  },
  {
   "cell_type": "code",
   "execution_count": 35,
   "metadata": {},
   "outputs": [
    {
     "data": {
      "text/plain": [
       "Project\n",
       "pipiens-complex-study               759\n",
       "aegypti-wolbachia-study             635\n",
       "NEED                                634\n",
       "landmark-mosquito-identification    429\n",
       "EID-MED + BNITM Colab               427\n",
       "vietnam-mosquito-collection-2022    398\n",
       "ConVector                           324\n",
       "landmark-aedes-collection           281\n",
       "vietnam-mosquito-collection-2023    174\n",
       "AIDA                                 98\n",
       "Name: count, dtype: int64"
      ]
     },
     "execution_count": 35,
     "metadata": {},
     "output_type": "execute_result"
    }
   ],
   "source": [
    "df_without_iphone['Project'].value_counts()"
   ]
  },
  {
   "cell_type": "code",
   "execution_count": 36,
   "metadata": {},
   "outputs": [
    {
     "data": {
      "text/plain": [
       "Sex\n",
       "F    3586\n",
       "M     709\n",
       "Name: count, dtype: int64"
      ]
     },
     "execution_count": 36,
     "metadata": {},
     "output_type": "execute_result"
    }
   ],
   "source": [
    "df_without_iphone['Sex'].value_counts()"
   ]
  }
 ],
 "metadata": {
  "kernelspec": {
   "display_name": "Python 3",
   "language": "python",
   "name": "python3"
  },
  "language_info": {
   "codemirror_mode": {
    "name": "ipython",
    "version": 3
   },
   "file_extension": ".py",
   "mimetype": "text/x-python",
   "name": "python",
   "nbconvert_exporter": "python",
   "pygments_lexer": "ipython3",
   "version": "3.13.0"
  }
 },
 "nbformat": 4,
 "nbformat_minor": 2
}
