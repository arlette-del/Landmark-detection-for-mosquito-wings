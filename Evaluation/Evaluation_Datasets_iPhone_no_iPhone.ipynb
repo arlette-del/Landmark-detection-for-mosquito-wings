{
  "nbformat": 4,
  "nbformat_minor": 0,
  "metadata": {
    "colab": {
      "provenance": []
    },
    "kernelspec": {
      "name": "python3",
      "display_name": "Python 3"
    },
    "language_info": {
      "name": "python"
    }
  },
  "cells": [
    {
      "cell_type": "code",
      "execution_count": 9,
      "metadata": {
        "id": "X2AGKiQ94LJ1"
      },
      "outputs": [],
      "source": [
        "import pandas as pd\n",
        "import numpy as np\n",
        "import matplotlib\n",
        "import matplotlib.pyplot as plt\n",
        "from matplotlib.lines import Line2D"
      ]
    },
    {
      "cell_type": "markdown",
      "source": [
        "load data"
      ],
      "metadata": {
        "id": "VDDtA9Jg4qcE"
      }
    },
    {
      "cell_type": "code",
      "source": [
        "from google.colab import drive\n",
        "drive.mount('/content/drive')"
      ],
      "metadata": {
        "colab": {
          "base_uri": "https://localhost:8080/"
        },
        "id": "XgG0hXmW5DWV",
        "outputId": "b64427cf-9c03-4f70-9b06-9b54077edd0e"
      },
      "execution_count": 2,
      "outputs": [
        {
          "output_type": "stream",
          "name": "stdout",
          "text": [
            "Mounted at /content/drive\n"
          ]
        }
      ]
    },
    {
      "cell_type": "code",
      "source": [
        "X_test_with_iPhone = np.load('/content/drive/MyDrive/Arlette/Sets for Training /Dataset with iPhone/test_images_160x320.npy')\n",
        "y_true_with_iPhone = np.load('/content/drive/MyDrive/Arlette/Sets for Training /Dataset with iPhone/test_landmarks.npy')\n",
        "pred_CNN_with_iPhone = np.load('/content/drive/MyDrive/Arlette/Model_Outputs/predictions_norm_CNN_full_augmentation.npy')\n",
        "pred_UNET_with_iPhone = np.load('/content/drive/MyDrive/Arlette/Model_Outputs/predictions_norm_UNET_full_augmentation.npy')\n",
        "\n",
        "X_test_without_iPhone = np.load('/content/drive/MyDrive/Arlette/Sets for Training /Dataset without iPhone/test_images_160x320_no_iphone.npy')\n",
        "y_test_without_iPhone = np.load('/content/drive/MyDrive/Arlette/Sets for Training /Dataset without iPhone/test_landmarks_no_iphone.npy')\n",
        "pred_CNN_without_iPhone = np.load('/content/drive/MyDrive/Arlette/Model_Outputs/predictions_norm_CNN_full_augmentation_without_iPhone.npy')\n",
        "pred_UNET_without_iPhone = np.load('/content/drive/MyDrive/Arlette/Model_Outputs/predictions_norm_UNET_full_augmentation_no_iPhone.npy')"
      ],
      "metadata": {
        "id": "iQ-VSHyh43Hh"
      },
      "execution_count": 3,
      "outputs": []
    },
    {
      "cell_type": "code",
      "source": [
        "print(X_test_with_iPhone.shape)\n",
        "print(y_true_with_iPhone.shape)\n",
        "\n",
        "print(pred_CNN_with_iPhone.shape)\n",
        "print(pred_UNET_with_iPhone.shape)"
      ],
      "metadata": {
        "colab": {
          "base_uri": "https://localhost:8080/"
        },
        "id": "zjnZpmMw5B1d",
        "outputId": "f185ec77-6ea0-425b-f12a-e414ca0b7a3e"
      },
      "execution_count": 4,
      "outputs": [
        {
          "output_type": "stream",
          "name": "stdout",
          "text": [
            "(987, 160, 320, 3)\n",
            "(987, 18, 2)\n",
            "(987, 18, 2)\n",
            "(987, 18, 2)\n"
          ]
        }
      ]
    },
    {
      "cell_type": "code",
      "source": [
        "print(X_test_without_iPhone.shape)\n",
        "print(y_test_without_iPhone.shape)\n",
        "\n",
        "print(pred_CNN_without_iPhone.shape)\n",
        "print(pred_UNET_without_iPhone.shape)"
      ],
      "metadata": {
        "colab": {
          "base_uri": "https://localhost:8080/"
        },
        "id": "Tj6mYFpJ5whb",
        "outputId": "68db29e5-544c-48ef-cb05-7c5a42472f34"
      },
      "execution_count": 5,
      "outputs": [
        {
          "output_type": "stream",
          "name": "stdout",
          "text": [
            "(865, 160, 320, 3)\n",
            "(865, 18, 2)\n",
            "(865, 18, 2)\n",
            "(865, 18, 2)\n"
          ]
        }
      ]
    },
    {
      "cell_type": "markdown",
      "source": [
        "evaluation boxplot"
      ],
      "metadata": {
        "id": "QGh_-T488CEw"
      }
    },
    {
      "cell_type": "code",
      "source": [
        "height, width = 160, 320\n",
        "\n",
        "# error per image (MPE in pixel)\n",
        "def landmark_error(y_true, y_pred, width, height):\n",
        "    y_true_dn = y_true.copy()\n",
        "    y_pred_dn = y_pred.copy()\n",
        "    y_true_dn[:, :, 0] *= width\n",
        "    y_true_dn[:, :, 1] *= height\n",
        "    y_pred_dn[:, :, 0] *= width\n",
        "    y_pred_dn[:, :, 1] *= height\n",
        "    return np.sqrt(((y_true_dn - y_pred_dn)**2).sum(axis=2)).mean(axis=1)\n",
        "\n",
        "# error arrays\n",
        "errors_with_iPhone_CNN = landmark_error(y_true_with_iPhone, pred_CNN_with_iPhone, width, height)\n",
        "errors_with_iPhone_UNET = landmark_error(y_true_with_iPhone, pred_UNET_with_iPhone, width, height)\n",
        "errors_without_iPhone_CNN = landmark_error(y_test_without_iPhone, pred_CNN_without_iPhone, width, height)\n",
        "errors_without_iPhone_UNET = landmark_error(y_test_without_iPhone, pred_UNET_without_iPhone, width, height)"
      ],
      "metadata": {
        "id": "vJX89IRy_c1-"
      },
      "execution_count": 6,
      "outputs": []
    },
    {
      "cell_type": "code",
      "source": [
        "height, width = 160, 320\n",
        "errors_list = [\n",
        "    errors_with_iPhone_CNN, errors_with_iPhone_UNET,\n",
        "    errors_without_iPhone_CNN, errors_without_iPhone_UNET]\n",
        "\n",
        "labels = ['CNN - with iPhone', 'UNET - with iPhone',\n",
        "          'CNN - without iPhone', 'UNET - without iPhone']\n",
        "\n",
        "fig, ax = plt.subplots(figsize=(10,6))\n",
        "\n",
        "# boxplot\n",
        "box = ax.boxplot(errors_list, patch_artist=True, widths=0.6,\n",
        "                 medianprops=dict(color='white', linewidth=0))\n",
        "\n",
        "# box grey\n",
        "for patch in box['boxes']:\n",
        "    patch.set_facecolor('#CCCCCC')\n",
        "    patch.set_alpha(0.8)\n",
        "\n",
        "# color per model\n",
        "colors = ['blue', 'red', 'blue', 'red']\n",
        "\n",
        "# mean line and median dot\n",
        "for i, (d, c) in enumerate(zip(errors_list, colors)):\n",
        "    mean_val = np.mean(d)\n",
        "    median_val = np.median(d)\n",
        "\n",
        "    # mean\n",
        "    x_left = i + 1 - 0.3\n",
        "    x_right = i + 1 + 0.3\n",
        "    ax.hlines(mean_val, x_left, x_right, color=c, linewidth=2)\n",
        "\n",
        "    # median\n",
        "    ax.scatter(i+1, median_val, color=c, s=40, zorder=3)\n",
        "\n",
        "# legend\n",
        "# line mean\n",
        "mean_blue = Line2D([0], [0], color='blue', linewidth=2)\n",
        "mean_red = Line2D([0], [0], color='red', linewidth=2)\n",
        "\n",
        "# dot medain\n",
        "median_blue = Line2D([0], [0], marker='o', color='w',markerfacecolor='blue', markersize=8)\n",
        "median_red = Line2D([0], [0], marker='o', color='w', markerfacecolor='red', markersize=8)\n",
        "\n",
        "# legend, combine cnn and unet\n",
        "ax.legend(\n",
        "    handles=[(mean_blue, mean_red), (median_blue, median_red)],\n",
        "    labels=['Mean (CNN=blue, UNET=red)', 'Median (CNN=blue, UNET=red)'],\n",
        "    handler_map={tuple: matplotlib.legend_handler.HandlerTuple(ndivide=None)},\n",
        "    loc='upper right')\n",
        "\n",
        "# axis\n",
        "ax.set_xticklabels(labels)\n",
        "ax.set_ylabel('Mean Pixel Error per Image')\n",
        "\n",
        "plt.tight_layout()\n",
        "plt.show()"
      ],
      "metadata": {
        "colab": {
          "base_uri": "https://localhost:8080/",
          "height": 607
        },
        "id": "b9iETrJemOo9",
        "outputId": "33832a41-8edf-40e4-b9c0-8172febaac8b"
      },
      "execution_count": 10,
      "outputs": [
        {
          "output_type": "display_data",
          "data": {
            "text/plain": [
              "<Figure size 1000x600 with 1 Axes>"
            ],
            "image/png": "[encoded data removed]"
          },
          "metadata": {}
        }
      ]
    },
    {
      "cell_type": "markdown",
      "source": [
        "summarize in table"
      ],
      "metadata": {
        "id": "5KZwp7I9sZ-N"
      }
    },
    {
      "cell_type": "code",
      "source": [
        "summary = {}\n",
        "for label, vals in zip(labels, errors_list):\n",
        "    summary[label] = f\"{np.mean(vals):.2f} ± {np.std(vals):.2f}, median: {np.median(vals):.2f}\"\n",
        "\n",
        "summary_df = pd.DataFrame.from_dict(summary, orient='index', columns=['MPE [Pixel]'])"
      ],
      "metadata": {
        "id": "mUW1VPbTFuJn"
      },
      "execution_count": 11,
      "outputs": []
    },
    {
      "cell_type": "code",
      "source": [
        "summary_df.head()"
      ],
      "metadata": {
        "colab": {
          "base_uri": "https://localhost:8080/",
          "height": 173
        },
        "id": "6581_PYmkTGB",
        "outputId": "e84f2a62-3aae-4321-870c-5c150a59efc6"
      },
      "execution_count": 12,
      "outputs": [
        {
          "output_type": "execute_result",
          "data": {
            "text/plain": [
              "                                        MPE [Pixel]\n",
              "CNN - with iPhone         7.94 ± 3.92, median: 7.12\n",
              "UNET - with iPhone        2.85 ± 0.97, median: 2.69\n",
              "CNN - without iPhone      7.61 ± 3.62, median: 7.09\n",
              "UNET - without iPhone  23.24 ± 22.03, median: 19.30"
            ],
            "text/html": [
              "\n",
              "  <div id=\"df-2302355e-bdc7-4b9d-8160-07846d69b116\" class=\"colab-df-container\">\n",
              "    <div>\n",
              "<style scoped>\n",
              "    .dataframe tbody tr th:only-of-type {\n",
              "        vertical-align: middle;\n",
              "    }\n",
              "\n",
              "    .dataframe tbody tr th {\n",
              "        vertical-align: top;\n",
              "    }\n",
              "\n",
              "    .dataframe thead th {\n",
              "        text-align: right;\n",
              "    }\n",
              "</style>\n",
              "<table border=\"1\" class=\"dataframe\">\n",
              "  <thead>\n",
              "    <tr style=\"text-align: right;\">\n",
              "      <th></th>\n",
              "      <th>MPE [Pixel]</th>\n",
              "    </tr>\n",
              "  </thead>\n",
              "  <tbody>\n",
              "    <tr>\n",
              "      <th>CNN - with iPhone</th>\n",
              "      <td>7.94 ± 3.92, median: 7.12</td>\n",
              "    </tr>\n",
              "    <tr>\n",
              "      <th>UNET - with iPhone</th>\n",
              "      <td>2.85 ± 0.97, median: 2.69</td>\n",
              "    </tr>\n",
              "    <tr>\n",
              "      <th>CNN - without iPhone</th>\n",
              "      <td>7.61 ± 3.62, median: 7.09</td>\n",
              "    </tr>\n",
              "    <tr>\n",
              "      <th>UNET - without iPhone</th>\n",
              "      <td>23.24 ± 22.03, median: 19.30</td>\n",
              "    </tr>\n",
              "  </tbody>\n",
              "</table>\n",
              "</div>\n",
              "    <div class=\"colab-df-buttons\">\n",
              "\n",
              "  <div class=\"colab-df-container\">\n",
              "    <button class=\"colab-df-convert\" onclick=\"convertToInteractive('df-2302355e-bdc7-4b9d-8160-07846d69b116')\"\n",
              "            title=\"Convert this dataframe to an interactive table.\"\n",
              "            style=\"display:none;\">\n",
              "\n",
              "  <svg xmlns=\"http://www.w3.org/2000/svg\" height=\"24px\" viewBox=\"0 -960 960 960\">\n",
              "    <path d=\"M120-120v-720h720v720H120Zm60-500h600v-160H180v160Zm220 220h160v-160H400v160Zm0 220h160v-160H400v160ZM180-400h160v-160H180v160Zm440 0h160v-160H620v160ZM180-180h160v-160H180v160Zm440 0h160v-160H620v160Z\"/>\n",
              "  </svg>\n",
              "    </button>\n",
              "\n",
              "  <style>\n",
              "    .colab-df-container {\n",
              "      display:flex;\n",
              "      gap: 12px;\n",
              "    }\n",
              "\n",
              "    .colab-df-convert {\n",
              "      background-color: #E8F0FE;\n",
              "      border: none;\n",
              "      border-radius: 50%;\n",
              "      cursor: pointer;\n",
              "      display: none;\n",
              "      fill: #1967D2;\n",
              "      height: 32px;\n",
              "      padding: 0 0 0 0;\n",
              "      width: 32px;\n",
              "    }\n",
              "\n",
              "    .colab-df-convert:hover {\n",
              "      background-color: #E2EBFA;\n",
              "      box-shadow: 0px 1px 2px rgba(60, 64, 67, 0.3), 0px 1px 3px 1px rgba(60, 64, 67, 0.15);\n",
              "      fill: #174EA6;\n",
              "    }\n",
              "\n",
              "    .colab-df-buttons div {\n",
              "      margin-bottom: 4px;\n",
              "    }\n",
              "\n",
              "    [theme=dark] .colab-df-convert {\n",
              "      background-color: #3B4455;\n",
              "      fill: #D2E3FC;\n",
              "    }\n",
              "\n",
              "    [theme=dark] .colab-df-convert:hover {\n",
              "      background-color: #434B5C;\n",
              "      box-shadow: 0px 1px 3px 1px rgba(0, 0, 0, 0.15);\n",
              "      filter: drop-shadow(0px 1px 2px rgba(0, 0, 0, 0.3));\n",
              "      fill: #FFFFFF;\n",
              "    }\n",
              "  </style>\n",
              "\n",
              "    <script>\n",
              "      const buttonEl =\n",
              "        document.querySelector('#df-2302355e-bdc7-4b9d-8160-07846d69b116 button.colab-df-convert');\n",
              "      buttonEl.style.display =\n",
              "        google.colab.kernel.accessAllowed ? 'block' : 'none';\n",
              "\n",
              "      async function convertToInteractive(key) {\n",
              "        const element = document.querySelector('#df-2302355e-bdc7-4b9d-8160-07846d69b116');\n",
              "        const dataTable =\n",
              "          await google.colab.kernel.invokeFunction('convertToInteractive',\n",
              "                                                    [key], {});\n",
              "        if (!dataTable) return;\n",
              "\n",
              "        const docLinkHtml = 'Like what you see? Visit the ' +\n",
              "          '<a target=\"_blank\" href=https://colab.research.google.com/notebooks/data_table.ipynb>data table notebook</a>'\n",
              "          + ' to learn more about interactive tables.';\n",
              "        element.innerHTML = '';\n",
              "        dataTable['output_type'] = 'display_data';\n",
              "        await google.colab.output.renderOutput(dataTable, element);\n",
              "        const docLink = document.createElement('div');\n",
              "        docLink.innerHTML = docLinkHtml;\n",
              "        element.appendChild(docLink);\n",
              "      }\n",
              "    </script>\n",
              "  </div>\n",
              "\n",
              "\n",
              "    <div id=\"df-9b98a071-51f7-4cda-b0f9-17f7280b21f1\">\n",
              "      <button class=\"colab-df-quickchart\" onclick=\"quickchart('df-9b98a071-51f7-4cda-b0f9-17f7280b21f1')\"\n",
              "                title=\"Suggest charts\"\n",
              "                style=\"display:none;\">\n",
              "\n",
              "<svg xmlns=\"http://www.w3.org/2000/svg\" height=\"24px\"viewBox=\"0 0 24 24\"\n",
              "     width=\"24px\">\n",
              "    <g>\n",
              "        <path d=\"M19 3H5c-1.1 0-2 .9-2 2v14c0 1.1.9 2 2 2h14c1.1 0 2-.9 2-2V5c0-1.1-.9-2-2-2zM9 17H7v-7h2v7zm4 0h-2V7h2v10zm4 0h-2v-4h2v4z\"/>\n",
              "    </g>\n",
              "</svg>\n",
              "      </button>\n",
              "\n",
              "<style>\n",
              "  .colab-df-quickchart {\n",
              "      --bg-color: #E8F0FE;\n",
              "      --fill-color: #1967D2;\n",
              "      --hover-bg-color: #E2EBFA;\n",
              "      --hover-fill-color: #174EA6;\n",
              "      --disabled-fill-color: #AAA;\n",
              "      --disabled-bg-color: #DDD;\n",
              "  }\n",
              "\n",
              "  [theme=dark] .colab-df-quickchart {\n",
              "      --bg-color: #3B4455;\n",
              "      --fill-color: #D2E3FC;\n",
              "      --hover-bg-color: #434B5C;\n",
              "      --hover-fill-color: #FFFFFF;\n",
              "      --disabled-bg-color: #3B4455;\n",
              "      --disabled-fill-color: #666;\n",
              "  }\n",
              "\n",
              "  .colab-df-quickchart {\n",
              "    background-color: var(--bg-color);\n",
              "    border: none;\n",
              "    border-radius: 50%;\n",
              "    cursor: pointer;\n",
              "    display: none;\n",
              "    fill: var(--fill-color);\n",
              "    height: 32px;\n",
              "    padding: 0;\n",
              "    width: 32px;\n",
              "  }\n",
              "\n",
              "  .colab-df-quickchart:hover {\n",
              "    background-color: var(--hover-bg-color);\n",
              "    box-shadow: 0 1px 2px rgba(60, 64, 67, 0.3), 0 1px 3px 1px rgba(60, 64, 67, 0.15);\n",
              "    fill: var(--button-hover-fill-color);\n",
              "  }\n",
              "\n",
              "  .colab-df-quickchart-complete:disabled,\n",
              "  .colab-df-quickchart-complete:disabled:hover {\n",
              "    background-color: var(--disabled-bg-color);\n",
              "    fill: var(--disabled-fill-color);\n",
              "    box-shadow: none;\n",
              "  }\n",
              "\n",
              "  .colab-df-spinner {\n",
              "    border: 2px solid var(--fill-color);\n",
              "    border-color: transparent;\n",
              "    border-bottom-color: var(--fill-color);\n",
              "    animation:\n",
              "      spin 1s steps(1) infinite;\n",
              "  }\n",
              "\n",
              "  @keyframes spin {\n",
              "    0% {\n",
              "      border-color: transparent;\n",
              "      border-bottom-color: var(--fill-color);\n",
              "      border-left-color: var(--fill-color);\n",
              "    }\n",
              "    20% {\n",
              "      border-color: transparent;\n",
              "      border-left-color: var(--fill-color);\n",
              "      border-top-color: var(--fill-color);\n",
              "    }\n",
              "    30% {\n",
              "      border-color: transparent;\n",
              "      border-left-color: var(--fill-color);\n",
              "      border-top-color: var(--fill-color);\n",
              "      border-right-color: var(--fill-color);\n",
              "    }\n",
              "    40% {\n",
              "      border-color: transparent;\n",
              "      border-right-color: var(--fill-color);\n",
              "      border-top-color: var(--fill-color);\n",
              "    }\n",
              "    60% {\n",
              "      border-color: transparent;\n",
              "      border-right-color: var(--fill-color);\n",
              "    }\n",
              "    80% {\n",
              "      border-color: transparent;\n",
              "      border-right-color: var(--fill-color);\n",
              "      border-bottom-color: var(--fill-color);\n",
              "    }\n",
              "    90% {\n",
              "      border-color: transparent;\n",
              "      border-bottom-color: var(--fill-color);\n",
              "    }\n",
              "  }\n",
              "</style>\n",
              "\n",
              "      <script>\n",
              "        async function quickchart(key) {\n",
              "          const quickchartButtonEl =\n",
              "            document.querySelector('#' + key + ' button');\n",
              "          quickchartButtonEl.disabled = true;  // To prevent multiple clicks.\n",
              "          quickchartButtonEl.classList.add('colab-df-spinner');\n",
              "          try {\n",
              "            const charts = await google.colab.kernel.invokeFunction(\n",
              "                'suggestCharts', [key], {});\n",
              "          } catch (error) {\n",
              "            console.error('Error during call to suggestCharts:', error);\n",
              "          }\n",
              "          quickchartButtonEl.classList.remove('colab-df-spinner');\n",
              "          quickchartButtonEl.classList.add('colab-df-quickchart-complete');\n",
              "        }\n",
              "        (() => {\n",
              "          let quickchartButtonEl =\n",
              "            document.querySelector('#df-9b98a071-51f7-4cda-b0f9-17f7280b21f1 button');\n",
              "          quickchartButtonEl.style.display =\n",
              "            google.colab.kernel.accessAllowed ? 'block' : 'none';\n",
              "        })();\n",
              "      </script>\n",
              "    </div>\n",
              "\n",
              "    </div>\n",
              "  </div>\n"
            ],
            "application/vnd.google.colaboratory.intrinsic+json": {
              "type": "dataframe",
              "variable_name": "summary_df",
              "summary": "{\n  \"name\": \"summary_df\",\n  \"rows\": 4,\n  \"fields\": [\n    {\n      \"column\": \"MPE [Pixel]\",\n      \"properties\": {\n        \"dtype\": \"string\",\n        \"num_unique_values\": 4,\n        \"samples\": [\n          \"2.85 \\u00b1 0.97, median: 2.69\",\n          \"23.24 \\u00b1 22.03, median: 19.30\",\n          \"7.94 \\u00b1 3.92, median: 7.12\"\n        ],\n        \"semantic_type\": \"\",\n        \"description\": \"\"\n      }\n    }\n  ]\n}"
            }
          },
          "metadata": {},
          "execution_count": 12
        }
      ]
    }
  ]
}